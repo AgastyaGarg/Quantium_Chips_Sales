{
 "cells": [
  {
   "cell_type": "code",
   "execution_count": 2,
   "id": "e8b9f5b6",
   "metadata": {},
   "outputs": [],
   "source": [
    "import pandas as pd\n",
    "import numpy as np\n",
    "import matplotlib.pyplot as plt\n",
    "import seaborn as sns"
   ]
  },
  {
   "cell_type": "code",
   "execution_count": 2,
   "id": "eee95a3e",
   "metadata": {},
   "outputs": [],
   "source": [
    "transaction_data = pd.read_csv(\"C:/Users/agast/OneDrive/Documents/Power BI Project/QVI_transaction_data.csv\")"
   ]
  },
  {
   "cell_type": "code",
   "execution_count": 3,
   "id": "e23656bb",
   "metadata": {},
   "outputs": [
    {
     "data": {
      "text/html": [
       "<div>\n",
       "<style scoped>\n",
       "    .dataframe tbody tr th:only-of-type {\n",
       "        vertical-align: middle;\n",
       "    }\n",
       "\n",
       "    .dataframe tbody tr th {\n",
       "        vertical-align: top;\n",
       "    }\n",
       "\n",
       "    .dataframe thead th {\n",
       "        text-align: right;\n",
       "    }\n",
       "</style>\n",
       "<table border=\"1\" class=\"dataframe\">\n",
       "  <thead>\n",
       "    <tr style=\"text-align: right;\">\n",
       "      <th></th>\n",
       "      <th>DATE</th>\n",
       "      <th>STORE_NBR</th>\n",
       "      <th>LYLTY_CARD_NBR</th>\n",
       "      <th>TXN_ID</th>\n",
       "      <th>PROD_NBR</th>\n",
       "      <th>PROD_NAME</th>\n",
       "      <th>PROD_QTY</th>\n",
       "      <th>TOT_SALES</th>\n",
       "    </tr>\n",
       "  </thead>\n",
       "  <tbody>\n",
       "    <tr>\n",
       "      <th>0</th>\n",
       "      <td>43390</td>\n",
       "      <td>1</td>\n",
       "      <td>1000</td>\n",
       "      <td>1</td>\n",
       "      <td>5</td>\n",
       "      <td>Natural Chip        Compny SeaSalt175g</td>\n",
       "      <td>2</td>\n",
       "      <td>6.0</td>\n",
       "    </tr>\n",
       "    <tr>\n",
       "      <th>1</th>\n",
       "      <td>43599</td>\n",
       "      <td>1</td>\n",
       "      <td>1307</td>\n",
       "      <td>348</td>\n",
       "      <td>66</td>\n",
       "      <td>CCs Nacho Cheese    175g</td>\n",
       "      <td>3</td>\n",
       "      <td>6.3</td>\n",
       "    </tr>\n",
       "    <tr>\n",
       "      <th>2</th>\n",
       "      <td>43605</td>\n",
       "      <td>1</td>\n",
       "      <td>1343</td>\n",
       "      <td>383</td>\n",
       "      <td>61</td>\n",
       "      <td>Smiths Crinkle Cut  Chips Chicken 170g</td>\n",
       "      <td>2</td>\n",
       "      <td>2.9</td>\n",
       "    </tr>\n",
       "    <tr>\n",
       "      <th>3</th>\n",
       "      <td>43329</td>\n",
       "      <td>2</td>\n",
       "      <td>2373</td>\n",
       "      <td>974</td>\n",
       "      <td>69</td>\n",
       "      <td>Smiths Chip Thinly  S/Cream&amp;Onion 175g</td>\n",
       "      <td>5</td>\n",
       "      <td>15.0</td>\n",
       "    </tr>\n",
       "    <tr>\n",
       "      <th>4</th>\n",
       "      <td>43330</td>\n",
       "      <td>2</td>\n",
       "      <td>2426</td>\n",
       "      <td>1038</td>\n",
       "      <td>108</td>\n",
       "      <td>Kettle Tortilla ChpsHny&amp;Jlpno Chili 150g</td>\n",
       "      <td>3</td>\n",
       "      <td>13.8</td>\n",
       "    </tr>\n",
       "  </tbody>\n",
       "</table>\n",
       "</div>"
      ],
      "text/plain": [
       "    DATE  STORE_NBR  LYLTY_CARD_NBR  TXN_ID  PROD_NBR  \\\n",
       "0  43390          1            1000       1         5   \n",
       "1  43599          1            1307     348        66   \n",
       "2  43605          1            1343     383        61   \n",
       "3  43329          2            2373     974        69   \n",
       "4  43330          2            2426    1038       108   \n",
       "\n",
       "                                  PROD_NAME  PROD_QTY  TOT_SALES  \n",
       "0    Natural Chip        Compny SeaSalt175g         2        6.0  \n",
       "1                  CCs Nacho Cheese    175g         3        6.3  \n",
       "2    Smiths Crinkle Cut  Chips Chicken 170g         2        2.9  \n",
       "3    Smiths Chip Thinly  S/Cream&Onion 175g         5       15.0  \n",
       "4  Kettle Tortilla ChpsHny&Jlpno Chili 150g         3       13.8  "
      ]
     },
     "execution_count": 3,
     "metadata": {},
     "output_type": "execute_result"
    }
   ],
   "source": [
    "transaction_data.head()"
   ]
  },
  {
   "cell_type": "code",
   "execution_count": 4,
   "id": "26a24fad",
   "metadata": {},
   "outputs": [],
   "source": [
    "try:\n",
    "\n",
    "    # Convert the 'DATE' column to datetime objects\n",
    "    transaction_data['DATE'] = pd.to_datetime(transaction_data['DATE'], unit='d', origin='1899-12-30')  \n",
    "\n",
    "    # Print the DataFrame with the converted dates\n",
    "    transaction_data.head()\n",
    "\n",
    "except FileNotFoundError:\n",
    "    print(f\"Error: File '{file_path}' not found.\")\n",
    "except Exception as e:\n",
    "    print(f\"An error occurred: {e}\")"
   ]
  },
  {
   "cell_type": "code",
   "execution_count": 5,
   "id": "7e8f29db",
   "metadata": {},
   "outputs": [
    {
     "data": {
      "text/html": [
       "<div>\n",
       "<style scoped>\n",
       "    .dataframe tbody tr th:only-of-type {\n",
       "        vertical-align: middle;\n",
       "    }\n",
       "\n",
       "    .dataframe tbody tr th {\n",
       "        vertical-align: top;\n",
       "    }\n",
       "\n",
       "    .dataframe thead th {\n",
       "        text-align: right;\n",
       "    }\n",
       "</style>\n",
       "<table border=\"1\" class=\"dataframe\">\n",
       "  <thead>\n",
       "    <tr style=\"text-align: right;\">\n",
       "      <th></th>\n",
       "      <th>DATE</th>\n",
       "      <th>STORE_NBR</th>\n",
       "      <th>LYLTY_CARD_NBR</th>\n",
       "      <th>TXN_ID</th>\n",
       "      <th>PROD_NBR</th>\n",
       "      <th>PROD_NAME</th>\n",
       "      <th>PROD_QTY</th>\n",
       "      <th>TOT_SALES</th>\n",
       "    </tr>\n",
       "  </thead>\n",
       "  <tbody>\n",
       "    <tr>\n",
       "      <th>0</th>\n",
       "      <td>2018-10-17</td>\n",
       "      <td>1</td>\n",
       "      <td>1000</td>\n",
       "      <td>1</td>\n",
       "      <td>5</td>\n",
       "      <td>Natural Chip        Compny SeaSalt175g</td>\n",
       "      <td>2</td>\n",
       "      <td>6.0</td>\n",
       "    </tr>\n",
       "    <tr>\n",
       "      <th>1</th>\n",
       "      <td>2019-05-14</td>\n",
       "      <td>1</td>\n",
       "      <td>1307</td>\n",
       "      <td>348</td>\n",
       "      <td>66</td>\n",
       "      <td>CCs Nacho Cheese    175g</td>\n",
       "      <td>3</td>\n",
       "      <td>6.3</td>\n",
       "    </tr>\n",
       "    <tr>\n",
       "      <th>2</th>\n",
       "      <td>2019-05-20</td>\n",
       "      <td>1</td>\n",
       "      <td>1343</td>\n",
       "      <td>383</td>\n",
       "      <td>61</td>\n",
       "      <td>Smiths Crinkle Cut  Chips Chicken 170g</td>\n",
       "      <td>2</td>\n",
       "      <td>2.9</td>\n",
       "    </tr>\n",
       "    <tr>\n",
       "      <th>3</th>\n",
       "      <td>2018-08-17</td>\n",
       "      <td>2</td>\n",
       "      <td>2373</td>\n",
       "      <td>974</td>\n",
       "      <td>69</td>\n",
       "      <td>Smiths Chip Thinly  S/Cream&amp;Onion 175g</td>\n",
       "      <td>5</td>\n",
       "      <td>15.0</td>\n",
       "    </tr>\n",
       "    <tr>\n",
       "      <th>4</th>\n",
       "      <td>2018-08-18</td>\n",
       "      <td>2</td>\n",
       "      <td>2426</td>\n",
       "      <td>1038</td>\n",
       "      <td>108</td>\n",
       "      <td>Kettle Tortilla ChpsHny&amp;Jlpno Chili 150g</td>\n",
       "      <td>3</td>\n",
       "      <td>13.8</td>\n",
       "    </tr>\n",
       "  </tbody>\n",
       "</table>\n",
       "</div>"
      ],
      "text/plain": [
       "        DATE  STORE_NBR  LYLTY_CARD_NBR  TXN_ID  PROD_NBR  \\\n",
       "0 2018-10-17          1            1000       1         5   \n",
       "1 2019-05-14          1            1307     348        66   \n",
       "2 2019-05-20          1            1343     383        61   \n",
       "3 2018-08-17          2            2373     974        69   \n",
       "4 2018-08-18          2            2426    1038       108   \n",
       "\n",
       "                                  PROD_NAME  PROD_QTY  TOT_SALES  \n",
       "0    Natural Chip        Compny SeaSalt175g         2        6.0  \n",
       "1                  CCs Nacho Cheese    175g         3        6.3  \n",
       "2    Smiths Crinkle Cut  Chips Chicken 170g         2        2.9  \n",
       "3    Smiths Chip Thinly  S/Cream&Onion 175g         5       15.0  \n",
       "4  Kettle Tortilla ChpsHny&Jlpno Chili 150g         3       13.8  "
      ]
     },
     "execution_count": 5,
     "metadata": {},
     "output_type": "execute_result"
    }
   ],
   "source": [
    "transaction_data.head()"
   ]
  },
  {
   "cell_type": "code",
   "execution_count": 6,
   "id": "c8b4da22",
   "metadata": {},
   "outputs": [
    {
     "name": "stdout",
     "output_type": "stream",
     "text": [
      "        DATE  STORE_NBR  LYLTY_CARD_NBR  TXN_ID  PROD_NBR  \\\n",
      "0 2018-10-17          1            1000       1         5   \n",
      "1 2019-05-14          1            1307     348        66   \n",
      "2 2019-05-20          1            1343     383        61   \n",
      "3 2018-08-17          2            2373     974        69   \n",
      "4 2018-08-18          2            2426    1038       108   \n",
      "\n",
      "                                  PROD_NAME  PROD_QTY  TOT_SALES  \n",
      "0    Natural Chip        Compny SeaSalt175g         2        6.0  \n",
      "1                  CCs Nacho Cheese    175g         3        6.3  \n",
      "2    Smiths Crinkle Cut  Chips Chicken 170g         2        2.9  \n",
      "3    Smiths Chip Thinly  S/Cream&Onion 175g         5       15.0  \n",
      "4  Kettle Tortilla ChpsHny&Jlpno Chili 150g         3       13.8  \n",
      "<class 'pandas.core.frame.DataFrame'>\n",
      "RangeIndex: 264836 entries, 0 to 264835\n",
      "Data columns (total 8 columns):\n",
      " #   Column          Non-Null Count   Dtype         \n",
      "---  ------          --------------   -----         \n",
      " 0   DATE            264836 non-null  datetime64[ns]\n",
      " 1   STORE_NBR       264836 non-null  int64         \n",
      " 2   LYLTY_CARD_NBR  264836 non-null  int64         \n",
      " 3   TXN_ID          264836 non-null  int64         \n",
      " 4   PROD_NBR        264836 non-null  int64         \n",
      " 5   PROD_NAME       264836 non-null  object        \n",
      " 6   PROD_QTY        264836 non-null  int64         \n",
      " 7   TOT_SALES       264836 non-null  float64       \n",
      "dtypes: datetime64[ns](1), float64(1), int64(5), object(1)\n",
      "memory usage: 16.2+ MB\n",
      "None\n",
      "          STORE_NBR  LYLTY_CARD_NBR        TXN_ID       PROD_NBR  \\\n",
      "count  264836.00000    2.648360e+05  2.648360e+05  264836.000000   \n",
      "mean      135.08011    1.355495e+05  1.351583e+05      56.583157   \n",
      "std        76.78418    8.057998e+04  7.813303e+04      32.826638   \n",
      "min         1.00000    1.000000e+03  1.000000e+00       1.000000   \n",
      "25%        70.00000    7.002100e+04  6.760150e+04      28.000000   \n",
      "50%       130.00000    1.303575e+05  1.351375e+05      56.000000   \n",
      "75%       203.00000    2.030942e+05  2.027012e+05      85.000000   \n",
      "max       272.00000    2.373711e+06  2.415841e+06     114.000000   \n",
      "\n",
      "            PROD_QTY      TOT_SALES  \n",
      "count  264836.000000  264836.000000  \n",
      "mean        1.907309       7.304200  \n",
      "std         0.643654       3.083226  \n",
      "min         1.000000       1.500000  \n",
      "25%         2.000000       5.400000  \n",
      "50%         2.000000       7.400000  \n",
      "75%         2.000000       9.200000  \n",
      "max       200.000000     650.000000  \n",
      "DATE              0\n",
      "STORE_NBR         0\n",
      "LYLTY_CARD_NBR    0\n",
      "TXN_ID            0\n",
      "PROD_NBR          0\n",
      "PROD_NAME         0\n",
      "PROD_QTY          0\n",
      "TOT_SALES         0\n",
      "dtype: int64\n"
     ]
    }
   ],
   "source": [
    "# Basic exploration\n",
    "print(transaction_data.head())\n",
    "print(transaction_data.info())\n",
    "print(transaction_data.describe())\n",
    "print(transaction_data.isnull().sum())  # Check for missing values"
   ]
  },
  {
   "cell_type": "code",
   "execution_count": 7,
   "id": "1b159fe0",
   "metadata": {},
   "outputs": [
    {
     "data": {
      "text/plain": [
       "array([  2,   3,   5,   1,   4, 200], dtype=int64)"
      ]
     },
     "execution_count": 7,
     "metadata": {},
     "output_type": "execute_result"
    }
   ],
   "source": [
    "transaction_data['PROD_QTY'].unique() # Checking for all unique values of categorical variables"
   ]
  },
  {
   "cell_type": "code",
   "execution_count": 8,
   "id": "e477095b",
   "metadata": {},
   "outputs": [],
   "source": [
    "transaction_data['PROD_NAME'] = transaction_data['PROD_NAME'].str.lower().str.strip() # Standardizing textual categorical variables"
   ]
  },
  {
   "cell_type": "code",
   "execution_count": 9,
   "id": "598cad17",
   "metadata": {},
   "outputs": [
    {
     "data": {
      "text/plain": [
       "1"
      ]
     },
     "execution_count": 9,
     "metadata": {},
     "output_type": "execute_result"
    }
   ],
   "source": [
    "transaction_data.duplicated().sum() # Checking for duplicated"
   ]
  },
  {
   "cell_type": "code",
   "execution_count": 10,
   "id": "d953398e",
   "metadata": {},
   "outputs": [],
   "source": [
    "transaction_data = transaction_data.drop_duplicates() # Removing duplicated"
   ]
  },
  {
   "cell_type": "code",
   "execution_count": 11,
   "id": "6a62f715",
   "metadata": {},
   "outputs": [
    {
     "data": {
      "image/png": "[encoded data removed]",
      "text/plain": [
       "<Figure size 1000x600 with 1 Axes>"
      ]
     },
     "metadata": {
      "needs_background": "light"
     },
     "output_type": "display_data"
    }
   ],
   "source": [
    "plt.figure(figsize=(10, 6), dpi=100)\n",
    "\n",
    "plt.boxplot(transaction_data['TOT_SALES'])\n",
    "\n",
    "plt.title('Distribution of Total Sales', fontsize=16)\n",
    "plt.ylabel('Total Sales (TOT_SALES)', fontsize=12)\n",
    "\n",
    "plt.grid(axis='y', linestyle='--', alpha=0.7)\n",
    "\n",
    "plt.show()\n"
   ]
  },
  {
   "cell_type": "markdown",
   "id": "c4e79e06",
   "metadata": {},
   "source": [
    "#### Checking for outliers"
   ]
  },
  {
   "cell_type": "code",
   "execution_count": 38,
   "id": "8584437e",
   "metadata": {},
   "outputs": [
    {
     "data": {
      "image/png": "[encoded data removed]",
      "text/plain": [
       "<Figure size 1000x600 with 1 Axes>"
      ]
     },
     "metadata": {
      "needs_background": "light"
     },
     "output_type": "display_data"
    }
   ],
   "source": [
    "plt.figure(figsize=(10, 6), dpi=100)\n",
    "\n",
    "plt.boxplot(transaction_data['PROD_QTY'])\n",
    "\n",
    "plt.title('Distribution of Product Quantity', fontsize=16)\n",
    "plt.ylabel('Product Quantity (PROD_QTY)', fontsize=12)\n",
    "\n",
    "plt.grid(axis='y', linestyle='--', alpha=0.7)\n",
    "\n",
    "plt.show()\n"
   ]
  },
  {
   "cell_type": "code",
   "execution_count": 39,
   "id": "831484d7",
   "metadata": {},
   "outputs": [
    {
     "name": "stdout",
     "output_type": "stream",
     "text": [
      "[  2   3   5   1   4 200]\n"
     ]
    }
   ],
   "source": [
    "unique_quantities = transaction_data['PROD_QTY'].unique()\n",
    "\n",
    "print(unique_quantities)"
   ]
  },
  {
   "cell_type": "markdown",
   "id": "4ec070ee",
   "metadata": {},
   "source": [
    "#### Checking for outliers"
   ]
  },
  {
   "cell_type": "code",
   "execution_count": 12,
   "id": "ebc24755",
   "metadata": {},
   "outputs": [
    {
     "name": "stdout",
     "output_type": "stream",
     "text": [
      "            DATE  STORE_NBR  LYLTY_CARD_NBR  TXN_ID  PROD_NBR  \\\n",
      "69762 2018-08-19        226          226000  226201         4   \n",
      "69763 2019-05-20        226          226000  226210         4   \n",
      "\n",
      "                              PROD_NAME  PROD_QTY  TOT_SALES  \n",
      "69762  dorito corn chp     supreme 380g       200      650.0  \n",
      "69763  dorito corn chp     supreme 380g       200      650.0  \n"
     ]
    }
   ],
   "source": [
    "max_sales_row = transaction_data[transaction_data['TOT_SALES'] == transaction_data['TOT_SALES'].max()]\n",
    "print(max_sales_row)"
   ]
  },
  {
   "cell_type": "markdown",
   "id": "84741b88",
   "metadata": {},
   "source": [
    "#### These purchases are very odd compared to the rest of the purchases. Maximum number of chips packets bought at a time were 5, but here there are 200. These clearly are outliers so we will be dropping these rows for better analysis."
   ]
  },
  {
   "cell_type": "code",
   "execution_count": 13,
   "id": "b8f4ccbe",
   "metadata": {},
   "outputs": [
    {
     "name": "stdout",
     "output_type": "stream",
     "text": [
      "Rows with loyalty card number 226000 have been successfully dropped.\n"
     ]
    },
    {
     "data": {
      "text/html": [
       "<div>\n",
       "<style scoped>\n",
       "    .dataframe tbody tr th:only-of-type {\n",
       "        vertical-align: middle;\n",
       "    }\n",
       "\n",
       "    .dataframe tbody tr th {\n",
       "        vertical-align: top;\n",
       "    }\n",
       "\n",
       "    .dataframe thead th {\n",
       "        text-align: right;\n",
       "    }\n",
       "</style>\n",
       "<table border=\"1\" class=\"dataframe\">\n",
       "  <thead>\n",
       "    <tr style=\"text-align: right;\">\n",
       "      <th></th>\n",
       "      <th>DATE</th>\n",
       "      <th>STORE_NBR</th>\n",
       "      <th>LYLTY_CARD_NBR</th>\n",
       "      <th>TXN_ID</th>\n",
       "      <th>PROD_NBR</th>\n",
       "      <th>PROD_NAME</th>\n",
       "      <th>PROD_QTY</th>\n",
       "      <th>TOT_SALES</th>\n",
       "    </tr>\n",
       "  </thead>\n",
       "  <tbody>\n",
       "    <tr>\n",
       "      <th>0</th>\n",
       "      <td>2018-10-17</td>\n",
       "      <td>1</td>\n",
       "      <td>1000</td>\n",
       "      <td>1</td>\n",
       "      <td>5</td>\n",
       "      <td>natural chip        compny seasalt175g</td>\n",
       "      <td>2</td>\n",
       "      <td>6.0</td>\n",
       "    </tr>\n",
       "    <tr>\n",
       "      <th>1</th>\n",
       "      <td>2019-05-14</td>\n",
       "      <td>1</td>\n",
       "      <td>1307</td>\n",
       "      <td>348</td>\n",
       "      <td>66</td>\n",
       "      <td>ccs nacho cheese    175g</td>\n",
       "      <td>3</td>\n",
       "      <td>6.3</td>\n",
       "    </tr>\n",
       "    <tr>\n",
       "      <th>2</th>\n",
       "      <td>2019-05-20</td>\n",
       "      <td>1</td>\n",
       "      <td>1343</td>\n",
       "      <td>383</td>\n",
       "      <td>61</td>\n",
       "      <td>smiths crinkle cut  chips chicken 170g</td>\n",
       "      <td>2</td>\n",
       "      <td>2.9</td>\n",
       "    </tr>\n",
       "    <tr>\n",
       "      <th>3</th>\n",
       "      <td>2018-08-17</td>\n",
       "      <td>2</td>\n",
       "      <td>2373</td>\n",
       "      <td>974</td>\n",
       "      <td>69</td>\n",
       "      <td>smiths chip thinly  s/cream&amp;onion 175g</td>\n",
       "      <td>5</td>\n",
       "      <td>15.0</td>\n",
       "    </tr>\n",
       "    <tr>\n",
       "      <th>4</th>\n",
       "      <td>2018-08-18</td>\n",
       "      <td>2</td>\n",
       "      <td>2426</td>\n",
       "      <td>1038</td>\n",
       "      <td>108</td>\n",
       "      <td>kettle tortilla chpshny&amp;jlpno chili 150g</td>\n",
       "      <td>3</td>\n",
       "      <td>13.8</td>\n",
       "    </tr>\n",
       "    <tr>\n",
       "      <th>...</th>\n",
       "      <td>...</td>\n",
       "      <td>...</td>\n",
       "      <td>...</td>\n",
       "      <td>...</td>\n",
       "      <td>...</td>\n",
       "      <td>...</td>\n",
       "      <td>...</td>\n",
       "      <td>...</td>\n",
       "    </tr>\n",
       "    <tr>\n",
       "      <th>69670</th>\n",
       "      <td>2018-08-17</td>\n",
       "      <td>160</td>\n",
       "      <td>160091</td>\n",
       "      <td>160701</td>\n",
       "      <td>111</td>\n",
       "      <td>smiths chip thinly  cut original 175g</td>\n",
       "      <td>1</td>\n",
       "      <td>3.0</td>\n",
       "    </tr>\n",
       "    <tr>\n",
       "      <th>69671</th>\n",
       "      <td>2019-05-17</td>\n",
       "      <td>160</td>\n",
       "      <td>160151</td>\n",
       "      <td>161078</td>\n",
       "      <td>73</td>\n",
       "      <td>smiths crinkle cut  salt &amp; vinegar 170g</td>\n",
       "      <td>2</td>\n",
       "      <td>5.8</td>\n",
       "    </tr>\n",
       "    <tr>\n",
       "      <th>69672</th>\n",
       "      <td>2019-05-19</td>\n",
       "      <td>160</td>\n",
       "      <td>160193</td>\n",
       "      <td>161346</td>\n",
       "      <td>58</td>\n",
       "      <td>red rock deli chikn&amp;garlic aioli 150g</td>\n",
       "      <td>1</td>\n",
       "      <td>2.7</td>\n",
       "    </tr>\n",
       "    <tr>\n",
       "      <th>69673</th>\n",
       "      <td>2018-08-16</td>\n",
       "      <td>164</td>\n",
       "      <td>164020</td>\n",
       "      <td>163910</td>\n",
       "      <td>104</td>\n",
       "      <td>infuzions thai sweetchili potatomix 110g</td>\n",
       "      <td>1</td>\n",
       "      <td>3.8</td>\n",
       "    </tr>\n",
       "    <tr>\n",
       "      <th>69674</th>\n",
       "      <td>2018-08-19</td>\n",
       "      <td>164</td>\n",
       "      <td>164020</td>\n",
       "      <td>163911</td>\n",
       "      <td>35</td>\n",
       "      <td>woolworths mild     salsa 300g</td>\n",
       "      <td>1</td>\n",
       "      <td>1.5</td>\n",
       "    </tr>\n",
       "  </tbody>\n",
       "</table>\n",
       "<p>69675 rows × 8 columns</p>\n",
       "</div>"
      ],
      "text/plain": [
       "            DATE  STORE_NBR  LYLTY_CARD_NBR  TXN_ID  PROD_NBR  \\\n",
       "0     2018-10-17          1            1000       1         5   \n",
       "1     2019-05-14          1            1307     348        66   \n",
       "2     2019-05-20          1            1343     383        61   \n",
       "3     2018-08-17          2            2373     974        69   \n",
       "4     2018-08-18          2            2426    1038       108   \n",
       "...          ...        ...             ...     ...       ...   \n",
       "69670 2018-08-17        160          160091  160701       111   \n",
       "69671 2019-05-17        160          160151  161078        73   \n",
       "69672 2019-05-19        160          160193  161346        58   \n",
       "69673 2018-08-16        164          164020  163910       104   \n",
       "69674 2018-08-19        164          164020  163911        35   \n",
       "\n",
       "                                      PROD_NAME  PROD_QTY  TOT_SALES  \n",
       "0        natural chip        compny seasalt175g         2        6.0  \n",
       "1                      ccs nacho cheese    175g         3        6.3  \n",
       "2        smiths crinkle cut  chips chicken 170g         2        2.9  \n",
       "3        smiths chip thinly  s/cream&onion 175g         5       15.0  \n",
       "4      kettle tortilla chpshny&jlpno chili 150g         3       13.8  \n",
       "...                                         ...       ...        ...  \n",
       "69670     smiths chip thinly  cut original 175g         1        3.0  \n",
       "69671   smiths crinkle cut  salt & vinegar 170g         2        5.8  \n",
       "69672     red rock deli chikn&garlic aioli 150g         1        2.7  \n",
       "69673  infuzions thai sweetchili potatomix 110g         1        3.8  \n",
       "69674            woolworths mild     salsa 300g         1        1.5  \n",
       "\n",
       "[69675 rows x 8 columns]"
      ]
     },
     "execution_count": 13,
     "metadata": {},
     "output_type": "execute_result"
    }
   ],
   "source": [
    "loyalty_card_number_to_drop = 226000\n",
    "\n",
    "# Find the rows to drop\n",
    "rows_to_drop = transaction_data[transaction_data['LYLTY_CARD_NBR'] == loyalty_card_number_to_drop]\n",
    "\n",
    "# Get the index of those rows\n",
    "index_to_drop = rows_to_drop.index\n",
    "\n",
    "# Drop the rows\n",
    "transaction_data.drop(index_to_drop, inplace=True)\n",
    "\n",
    "# Reset the index (optional)\n",
    "transaction_data.reset_index(drop=True, inplace=True)\n",
    "\n",
    "# Verify the deletion\n",
    "if loyalty_card_number_to_drop in transaction_data['LYLTY_CARD_NBR'].values:\n",
    "    print(f\"Rows with loyalty card number {loyalty_card_number_to_drop} were not dropped.\")\n",
    "else:\n",
    "    print(f\"Rows with loyalty card number {loyalty_card_number_to_drop} have been successfully dropped.\")\n",
    "    \n",
    "\n",
    "transaction_data.head(69675) #Checking if the rows have been dropped or not"
   ]
  },
  {
   "cell_type": "code",
   "execution_count": 3,
   "id": "e732b24d",
   "metadata": {},
   "outputs": [],
   "source": [
    "customer_data = pd.read_csv(\"C:/Users/agast/OneDrive/Documents/Power BI Project/QVI_purchase_behaviour.csv\")"
   ]
  },
  {
   "cell_type": "code",
   "execution_count": 4,
   "id": "bf03edb6",
   "metadata": {},
   "outputs": [
    {
     "data": {
      "text/html": [
       "<div>\n",
       "<style scoped>\n",
       "    .dataframe tbody tr th:only-of-type {\n",
       "        vertical-align: middle;\n",
       "    }\n",
       "\n",
       "    .dataframe tbody tr th {\n",
       "        vertical-align: top;\n",
       "    }\n",
       "\n",
       "    .dataframe thead th {\n",
       "        text-align: right;\n",
       "    }\n",
       "</style>\n",
       "<table border=\"1\" class=\"dataframe\">\n",
       "  <thead>\n",
       "    <tr style=\"text-align: right;\">\n",
       "      <th></th>\n",
       "      <th>LYLTY_CARD_NBR</th>\n",
       "      <th>LIFESTAGE</th>\n",
       "      <th>PREMIUM_CUSTOMER</th>\n",
       "    </tr>\n",
       "  </thead>\n",
       "  <tbody>\n",
       "    <tr>\n",
       "      <th>0</th>\n",
       "      <td>1000</td>\n",
       "      <td>YOUNG SINGLES/COUPLES</td>\n",
       "      <td>Premium</td>\n",
       "    </tr>\n",
       "    <tr>\n",
       "      <th>1</th>\n",
       "      <td>1002</td>\n",
       "      <td>YOUNG SINGLES/COUPLES</td>\n",
       "      <td>Mainstream</td>\n",
       "    </tr>\n",
       "    <tr>\n",
       "      <th>2</th>\n",
       "      <td>1003</td>\n",
       "      <td>YOUNG FAMILIES</td>\n",
       "      <td>Budget</td>\n",
       "    </tr>\n",
       "    <tr>\n",
       "      <th>3</th>\n",
       "      <td>1004</td>\n",
       "      <td>OLDER SINGLES/COUPLES</td>\n",
       "      <td>Mainstream</td>\n",
       "    </tr>\n",
       "    <tr>\n",
       "      <th>4</th>\n",
       "      <td>1005</td>\n",
       "      <td>MIDAGE SINGLES/COUPLES</td>\n",
       "      <td>Mainstream</td>\n",
       "    </tr>\n",
       "  </tbody>\n",
       "</table>\n",
       "</div>"
      ],
      "text/plain": [
       "   LYLTY_CARD_NBR               LIFESTAGE PREMIUM_CUSTOMER\n",
       "0            1000   YOUNG SINGLES/COUPLES          Premium\n",
       "1            1002   YOUNG SINGLES/COUPLES       Mainstream\n",
       "2            1003          YOUNG FAMILIES           Budget\n",
       "3            1004   OLDER SINGLES/COUPLES       Mainstream\n",
       "4            1005  MIDAGE SINGLES/COUPLES       Mainstream"
      ]
     },
     "execution_count": 4,
     "metadata": {},
     "output_type": "execute_result"
    }
   ],
   "source": [
    "customer_data.head()"
   ]
  },
  {
   "cell_type": "code",
   "execution_count": 15,
   "id": "c5e85d85",
   "metadata": {},
   "outputs": [
    {
     "name": "stdout",
     "output_type": "stream",
     "text": [
      "   LYLTY_CARD_NBR               LIFESTAGE PREMIUM_CUSTOMER\n",
      "0            1000   YOUNG SINGLES/COUPLES          Premium\n",
      "1            1002   YOUNG SINGLES/COUPLES       Mainstream\n",
      "2            1003          YOUNG FAMILIES           Budget\n",
      "3            1004   OLDER SINGLES/COUPLES       Mainstream\n",
      "4            1005  MIDAGE SINGLES/COUPLES       Mainstream\n",
      "<class 'pandas.core.frame.DataFrame'>\n",
      "RangeIndex: 72637 entries, 0 to 72636\n",
      "Data columns (total 3 columns):\n",
      " #   Column            Non-Null Count  Dtype \n",
      "---  ------            --------------  ----- \n",
      " 0   LYLTY_CARD_NBR    72637 non-null  int64 \n",
      " 1   LIFESTAGE         72637 non-null  object\n",
      " 2   PREMIUM_CUSTOMER  72637 non-null  object\n",
      "dtypes: int64(1), object(2)\n",
      "memory usage: 1.7+ MB\n",
      "None\n",
      "       LYLTY_CARD_NBR\n",
      "count    7.263700e+04\n",
      "mean     1.361859e+05\n",
      "std      8.989293e+04\n",
      "min      1.000000e+03\n",
      "25%      6.620200e+04\n",
      "50%      1.340400e+05\n",
      "75%      2.033750e+05\n",
      "max      2.373711e+06\n",
      "LYLTY_CARD_NBR      0\n",
      "LIFESTAGE           0\n",
      "PREMIUM_CUSTOMER    0\n",
      "dtype: int64\n"
     ]
    }
   ],
   "source": [
    "# Basic exploration\n",
    "print(customer_data.head())\n",
    "print(customer_data.info())\n",
    "print(customer_data.describe())\n",
    "print(customer_data.isnull().sum())  # Check for missing values"
   ]
  },
  {
   "cell_type": "code",
   "execution_count": 16,
   "id": "af86d3fd",
   "metadata": {},
   "outputs": [
    {
     "data": {
      "text/plain": [
       "0"
      ]
     },
     "execution_count": 16,
     "metadata": {},
     "output_type": "execute_result"
    }
   ],
   "source": [
    "customer_data.duplicated().sum() # Checking for duplicates"
   ]
  },
  {
   "cell_type": "code",
   "execution_count": 17,
   "id": "f4eec59c",
   "metadata": {},
   "outputs": [
    {
     "name": "stdout",
     "output_type": "stream",
     "text": [
      "Unique LIFESTAGE values: ['YOUNG SINGLES/COUPLES' 'YOUNG FAMILIES' 'OLDER SINGLES/COUPLES'\n",
      " 'MIDAGE SINGLES/COUPLES' 'NEW FAMILIES' 'OLDER FAMILIES' 'RETIREES']\n",
      "\n",
      "Unique PREMIUM_CUSTOMER values: ['Premium' 'Mainstream' 'Budget']\n"
     ]
    }
   ],
   "source": [
    "#Checking for unique values in the 2 categorical variables\n",
    "\n",
    "# Unique values in LIFESTAGE\n",
    "unique_lifestages = customer_data['LIFESTAGE'].unique()\n",
    "print(\"Unique LIFESTAGE values:\", unique_lifestages)\n",
    "\n",
    "# Unique values in PREMIUM_CUSTOMER\n",
    "unique_premium_customers = customer_data['PREMIUM_CUSTOMER'].unique()\n",
    "print(\"\\nUnique PREMIUM_CUSTOMER values:\", unique_premium_customers)"
   ]
  },
  {
   "cell_type": "code",
   "execution_count": 18,
   "id": "f642d918",
   "metadata": {},
   "outputs": [
    {
     "name": "stdout",
     "output_type": "stream",
     "text": [
      "Rows with loyalty card number 226000 have been successfully dropped from customer_data.\n",
      "Empty DataFrame\n",
      "Columns: [LYLTY_CARD_NBR, LIFESTAGE, PREMIUM_CUSTOMER]\n",
      "Index: []\n"
     ]
    }
   ],
   "source": [
    "#Deleting the rows where loyalty number was 226000 as it was an outlier in the transactions dataset\n",
    "\n",
    "loyalty_card_number_to_drop = 226000\n",
    "\n",
    "# Check if the loyalty card number exists in customer_data\n",
    "if loyalty_card_number_to_drop in customer_data['LYLTY_CARD_NBR'].values:\n",
    "    # Find the rows to drop in customer_data\n",
    "    rows_to_drop = customer_data[customer_data['LYLTY_CARD_NBR'] == loyalty_card_number_to_drop]\n",
    "\n",
    "    # Get the index of those rows\n",
    "    index_to_drop = rows_to_drop.index\n",
    "\n",
    "    # Drop the rows from customer_data\n",
    "    customer_data.drop(index_to_drop, inplace=True)\n",
    "\n",
    "    # Reset the index (optional)\n",
    "    customer_data.reset_index(drop=True, inplace=True)\n",
    "\n",
    "    print(f\"Rows with loyalty card number {loyalty_card_number_to_drop} have been successfully dropped from customer_data.\")\n",
    "else:\n",
    "    print(f\"Loyalty card number {loyalty_card_number_to_drop} not found in customer_data.\")\n",
    "\n",
    "# Verify the deletion\n",
    "print(customer_data[customer_data['LYLTY_CARD_NBR'] == loyalty_card_number_to_drop]) # Should return an empty dataframe."
   ]
  },
  {
   "cell_type": "code",
   "execution_count": 19,
   "id": "4f9a337e",
   "metadata": {},
   "outputs": [],
   "source": [
    "# Standardize LIFESTAGE\n",
    "customer_data['LIFESTAGE'] = customer_data['LIFESTAGE'].str.strip().str.lower()\n",
    "\n",
    "# Standardize PREMIUM_CUSTOMER\n",
    "customer_data['PREMIUM_CUSTOMER'] = customer_data['PREMIUM_CUSTOMER'].str.strip().str.lower()"
   ]
  },
  {
   "cell_type": "code",
   "execution_count": 20,
   "id": "47cbbefd",
   "metadata": {},
   "outputs": [
    {
     "data": {
      "text/html": [
       "<div>\n",
       "<style scoped>\n",
       "    .dataframe tbody tr th:only-of-type {\n",
       "        vertical-align: middle;\n",
       "    }\n",
       "\n",
       "    .dataframe tbody tr th {\n",
       "        vertical-align: top;\n",
       "    }\n",
       "\n",
       "    .dataframe thead th {\n",
       "        text-align: right;\n",
       "    }\n",
       "</style>\n",
       "<table border=\"1\" class=\"dataframe\">\n",
       "  <thead>\n",
       "    <tr style=\"text-align: right;\">\n",
       "      <th></th>\n",
       "      <th>DATE</th>\n",
       "      <th>STORE_NBR</th>\n",
       "      <th>LYLTY_CARD_NBR</th>\n",
       "      <th>TXN_ID</th>\n",
       "      <th>PROD_NBR</th>\n",
       "      <th>PROD_NAME</th>\n",
       "      <th>PROD_QTY</th>\n",
       "      <th>TOT_SALES</th>\n",
       "      <th>LIFESTAGE</th>\n",
       "      <th>PREMIUM_CUSTOMER</th>\n",
       "    </tr>\n",
       "  </thead>\n",
       "  <tbody>\n",
       "    <tr>\n",
       "      <th>0</th>\n",
       "      <td>2018-10-17</td>\n",
       "      <td>1</td>\n",
       "      <td>1000</td>\n",
       "      <td>1</td>\n",
       "      <td>5</td>\n",
       "      <td>natural chip        compny seasalt175g</td>\n",
       "      <td>2</td>\n",
       "      <td>6.0</td>\n",
       "      <td>young singles/couples</td>\n",
       "      <td>premium</td>\n",
       "    </tr>\n",
       "    <tr>\n",
       "      <th>1</th>\n",
       "      <td>2019-05-14</td>\n",
       "      <td>1</td>\n",
       "      <td>1307</td>\n",
       "      <td>348</td>\n",
       "      <td>66</td>\n",
       "      <td>ccs nacho cheese    175g</td>\n",
       "      <td>3</td>\n",
       "      <td>6.3</td>\n",
       "      <td>midage singles/couples</td>\n",
       "      <td>budget</td>\n",
       "    </tr>\n",
       "    <tr>\n",
       "      <th>2</th>\n",
       "      <td>2019-05-20</td>\n",
       "      <td>1</td>\n",
       "      <td>1343</td>\n",
       "      <td>383</td>\n",
       "      <td>61</td>\n",
       "      <td>smiths crinkle cut  chips chicken 170g</td>\n",
       "      <td>2</td>\n",
       "      <td>2.9</td>\n",
       "      <td>midage singles/couples</td>\n",
       "      <td>budget</td>\n",
       "    </tr>\n",
       "    <tr>\n",
       "      <th>3</th>\n",
       "      <td>2018-08-17</td>\n",
       "      <td>2</td>\n",
       "      <td>2373</td>\n",
       "      <td>974</td>\n",
       "      <td>69</td>\n",
       "      <td>smiths chip thinly  s/cream&amp;onion 175g</td>\n",
       "      <td>5</td>\n",
       "      <td>15.0</td>\n",
       "      <td>midage singles/couples</td>\n",
       "      <td>budget</td>\n",
       "    </tr>\n",
       "    <tr>\n",
       "      <th>4</th>\n",
       "      <td>2018-08-18</td>\n",
       "      <td>2</td>\n",
       "      <td>2426</td>\n",
       "      <td>1038</td>\n",
       "      <td>108</td>\n",
       "      <td>kettle tortilla chpshny&amp;jlpno chili 150g</td>\n",
       "      <td>3</td>\n",
       "      <td>13.8</td>\n",
       "      <td>midage singles/couples</td>\n",
       "      <td>budget</td>\n",
       "    </tr>\n",
       "    <tr>\n",
       "      <th>5</th>\n",
       "      <td>2019-05-19</td>\n",
       "      <td>4</td>\n",
       "      <td>4074</td>\n",
       "      <td>2982</td>\n",
       "      <td>57</td>\n",
       "      <td>old el paso salsa   dip tomato mild 300g</td>\n",
       "      <td>1</td>\n",
       "      <td>5.1</td>\n",
       "      <td>midage singles/couples</td>\n",
       "      <td>budget</td>\n",
       "    </tr>\n",
       "    <tr>\n",
       "      <th>6</th>\n",
       "      <td>2019-05-16</td>\n",
       "      <td>4</td>\n",
       "      <td>4149</td>\n",
       "      <td>3333</td>\n",
       "      <td>16</td>\n",
       "      <td>smiths crinkle chips salt &amp; vinegar 330g</td>\n",
       "      <td>1</td>\n",
       "      <td>5.7</td>\n",
       "      <td>midage singles/couples</td>\n",
       "      <td>budget</td>\n",
       "    </tr>\n",
       "    <tr>\n",
       "      <th>7</th>\n",
       "      <td>2019-05-16</td>\n",
       "      <td>4</td>\n",
       "      <td>4196</td>\n",
       "      <td>3539</td>\n",
       "      <td>24</td>\n",
       "      <td>grain waves         sweet chilli 210g</td>\n",
       "      <td>1</td>\n",
       "      <td>3.6</td>\n",
       "      <td>midage singles/couples</td>\n",
       "      <td>budget</td>\n",
       "    </tr>\n",
       "    <tr>\n",
       "      <th>8</th>\n",
       "      <td>2018-08-20</td>\n",
       "      <td>5</td>\n",
       "      <td>5026</td>\n",
       "      <td>4525</td>\n",
       "      <td>42</td>\n",
       "      <td>doritos corn chip mexican jalapeno 150g</td>\n",
       "      <td>1</td>\n",
       "      <td>3.9</td>\n",
       "      <td>midage singles/couples</td>\n",
       "      <td>budget</td>\n",
       "    </tr>\n",
       "    <tr>\n",
       "      <th>9</th>\n",
       "      <td>2018-08-18</td>\n",
       "      <td>7</td>\n",
       "      <td>7150</td>\n",
       "      <td>6900</td>\n",
       "      <td>52</td>\n",
       "      <td>grain waves sour    cream&amp;chives 210g</td>\n",
       "      <td>2</td>\n",
       "      <td>7.2</td>\n",
       "      <td>midage singles/couples</td>\n",
       "      <td>budget</td>\n",
       "    </tr>\n",
       "  </tbody>\n",
       "</table>\n",
       "</div>"
      ],
      "text/plain": [
       "        DATE  STORE_NBR  LYLTY_CARD_NBR  TXN_ID  PROD_NBR  \\\n",
       "0 2018-10-17          1            1000       1         5   \n",
       "1 2019-05-14          1            1307     348        66   \n",
       "2 2019-05-20          1            1343     383        61   \n",
       "3 2018-08-17          2            2373     974        69   \n",
       "4 2018-08-18          2            2426    1038       108   \n",
       "5 2019-05-19          4            4074    2982        57   \n",
       "6 2019-05-16          4            4149    3333        16   \n",
       "7 2019-05-16          4            4196    3539        24   \n",
       "8 2018-08-20          5            5026    4525        42   \n",
       "9 2018-08-18          7            7150    6900        52   \n",
       "\n",
       "                                  PROD_NAME  PROD_QTY  TOT_SALES  \\\n",
       "0    natural chip        compny seasalt175g         2        6.0   \n",
       "1                  ccs nacho cheese    175g         3        6.3   \n",
       "2    smiths crinkle cut  chips chicken 170g         2        2.9   \n",
       "3    smiths chip thinly  s/cream&onion 175g         5       15.0   \n",
       "4  kettle tortilla chpshny&jlpno chili 150g         3       13.8   \n",
       "5  old el paso salsa   dip tomato mild 300g         1        5.1   \n",
       "6  smiths crinkle chips salt & vinegar 330g         1        5.7   \n",
       "7     grain waves         sweet chilli 210g         1        3.6   \n",
       "8   doritos corn chip mexican jalapeno 150g         1        3.9   \n",
       "9     grain waves sour    cream&chives 210g         2        7.2   \n",
       "\n",
       "                LIFESTAGE PREMIUM_CUSTOMER  \n",
       "0   young singles/couples          premium  \n",
       "1  midage singles/couples           budget  \n",
       "2  midage singles/couples           budget  \n",
       "3  midage singles/couples           budget  \n",
       "4  midage singles/couples           budget  \n",
       "5  midage singles/couples           budget  \n",
       "6  midage singles/couples           budget  \n",
       "7  midage singles/couples           budget  \n",
       "8  midage singles/couples           budget  \n",
       "9  midage singles/couples           budget  "
      ]
     },
     "execution_count": 20,
     "metadata": {},
     "output_type": "execute_result"
    }
   ],
   "source": [
    "#Merging the 2 datasets\n",
    "\n",
    "# Merge the DataFrames using 'LYLTY_CARD_NBR' as the key\n",
    "merged_data = pd.merge(transaction_data, customer_data, on='LYLTY_CARD_NBR', how='left')\n",
    "\n",
    "merged_data.head(10)"
   ]
  },
  {
   "cell_type": "code",
   "execution_count": 21,
   "id": "500fdb3d",
   "metadata": {},
   "outputs": [
    {
     "data": {
      "text/html": [
       "<div>\n",
       "<style scoped>\n",
       "    .dataframe tbody tr th:only-of-type {\n",
       "        vertical-align: middle;\n",
       "    }\n",
       "\n",
       "    .dataframe tbody tr th {\n",
       "        vertical-align: top;\n",
       "    }\n",
       "\n",
       "    .dataframe thead th {\n",
       "        text-align: right;\n",
       "    }\n",
       "</style>\n",
       "<table border=\"1\" class=\"dataframe\">\n",
       "  <thead>\n",
       "    <tr style=\"text-align: right;\">\n",
       "      <th></th>\n",
       "      <th>DATE</th>\n",
       "      <th>STORE_NBR</th>\n",
       "      <th>LYLTY_CARD_NBR</th>\n",
       "      <th>TXN_ID</th>\n",
       "      <th>PROD_NBR</th>\n",
       "      <th>PROD_NAME</th>\n",
       "      <th>LIFESTAGE</th>\n",
       "      <th>PREMIUM_CUSTOMER</th>\n",
       "      <th>PROD_QTY</th>\n",
       "      <th>TOT_SALES</th>\n",
       "    </tr>\n",
       "  </thead>\n",
       "  <tbody>\n",
       "    <tr>\n",
       "      <th>0</th>\n",
       "      <td>2018-10-17</td>\n",
       "      <td>1</td>\n",
       "      <td>1000</td>\n",
       "      <td>1</td>\n",
       "      <td>5</td>\n",
       "      <td>natural chip        compny seasalt175g</td>\n",
       "      <td>young singles/couples</td>\n",
       "      <td>premium</td>\n",
       "      <td>2</td>\n",
       "      <td>6.0</td>\n",
       "    </tr>\n",
       "    <tr>\n",
       "      <th>1</th>\n",
       "      <td>2019-05-14</td>\n",
       "      <td>1</td>\n",
       "      <td>1307</td>\n",
       "      <td>348</td>\n",
       "      <td>66</td>\n",
       "      <td>ccs nacho cheese    175g</td>\n",
       "      <td>midage singles/couples</td>\n",
       "      <td>budget</td>\n",
       "      <td>3</td>\n",
       "      <td>6.3</td>\n",
       "    </tr>\n",
       "    <tr>\n",
       "      <th>2</th>\n",
       "      <td>2019-05-20</td>\n",
       "      <td>1</td>\n",
       "      <td>1343</td>\n",
       "      <td>383</td>\n",
       "      <td>61</td>\n",
       "      <td>smiths crinkle cut  chips chicken 170g</td>\n",
       "      <td>midage singles/couples</td>\n",
       "      <td>budget</td>\n",
       "      <td>2</td>\n",
       "      <td>2.9</td>\n",
       "    </tr>\n",
       "    <tr>\n",
       "      <th>3</th>\n",
       "      <td>2018-08-17</td>\n",
       "      <td>2</td>\n",
       "      <td>2373</td>\n",
       "      <td>974</td>\n",
       "      <td>69</td>\n",
       "      <td>smiths chip thinly  s/cream&amp;onion 175g</td>\n",
       "      <td>midage singles/couples</td>\n",
       "      <td>budget</td>\n",
       "      <td>5</td>\n",
       "      <td>15.0</td>\n",
       "    </tr>\n",
       "    <tr>\n",
       "      <th>4</th>\n",
       "      <td>2018-08-18</td>\n",
       "      <td>2</td>\n",
       "      <td>2426</td>\n",
       "      <td>1038</td>\n",
       "      <td>108</td>\n",
       "      <td>kettle tortilla chpshny&amp;jlpno chili 150g</td>\n",
       "      <td>midage singles/couples</td>\n",
       "      <td>budget</td>\n",
       "      <td>3</td>\n",
       "      <td>13.8</td>\n",
       "    </tr>\n",
       "  </tbody>\n",
       "</table>\n",
       "</div>"
      ],
      "text/plain": [
       "        DATE  STORE_NBR  LYLTY_CARD_NBR  TXN_ID  PROD_NBR  \\\n",
       "0 2018-10-17          1            1000       1         5   \n",
       "1 2019-05-14          1            1307     348        66   \n",
       "2 2019-05-20          1            1343     383        61   \n",
       "3 2018-08-17          2            2373     974        69   \n",
       "4 2018-08-18          2            2426    1038       108   \n",
       "\n",
       "                                  PROD_NAME               LIFESTAGE  \\\n",
       "0    natural chip        compny seasalt175g   young singles/couples   \n",
       "1                  ccs nacho cheese    175g  midage singles/couples   \n",
       "2    smiths crinkle cut  chips chicken 170g  midage singles/couples   \n",
       "3    smiths chip thinly  s/cream&onion 175g  midage singles/couples   \n",
       "4  kettle tortilla chpshny&jlpno chili 150g  midage singles/couples   \n",
       "\n",
       "  PREMIUM_CUSTOMER  PROD_QTY  TOT_SALES  \n",
       "0          premium         2        6.0  \n",
       "1           budget         3        6.3  \n",
       "2           budget         2        2.9  \n",
       "3           budget         5       15.0  \n",
       "4           budget         3       13.8  "
      ]
     },
     "execution_count": 21,
     "metadata": {},
     "output_type": "execute_result"
    }
   ],
   "source": [
    "#Rearranging\n",
    "numerical_cols = ['PROD_QTY', 'TOT_SALES']\n",
    "\n",
    "# Identify categorical columns to move\n",
    "cols_to_move = ['LIFESTAGE', 'PREMIUM_CUSTOMER']\n",
    "\n",
    "# Identify remaining columns\n",
    "remaining_cols = [col for col in merged_data.columns if col not in numerical_cols and col not in cols_to_move]\n",
    "\n",
    "# Create new column order\n",
    "new_cols = remaining_cols + cols_to_move + numerical_cols\n",
    "\n",
    "# Rearrange the DataFrame\n",
    "merged_data = merged_data[new_cols]\n",
    "\n",
    "# Display the rearranged DataFrame\n",
    "merged_data.head()"
   ]
  },
  {
   "cell_type": "code",
   "execution_count": 22,
   "id": "d6769ce0",
   "metadata": {},
   "outputs": [
    {
     "data": {
      "image/png": "[encoded data removed]",
      "text/plain": [
       "<Figure size 720x432 with 1 Axes>"
      ]
     },
     "metadata": {
      "needs_background": "light"
     },
     "output_type": "display_data"
    }
   ],
   "source": [
    "#Total sales by membership\n",
    "\n",
    "# 1. Calculate Total Sales by PREMIUM_CUSTOMER\n",
    "total_sales_by_membership = merged_data.groupby('PREMIUM_CUSTOMER')['TOT_SALES'].sum().reset_index()\n",
    "\n",
    "\n",
    "# 3. Create the Bar Chart\n",
    "plt.figure(figsize=(10, 6))\n",
    "ax = sns.barplot(x='PREMIUM_CUSTOMER', y='TOT_SALES', data=total_sales_by_membership, palette='magma')  # Change palette if desired\n",
    "\n",
    "plt.title('Total Sales by Membership (PREMIUM_CUSTOMER)', fontsize=16)\n",
    "plt.xlabel('Membership (PREMIUM_CUSTOMER)', fontsize=12)\n",
    "plt.ylabel('Total Sales', fontsize=12)\n",
    "plt.xticks(rotation=45, ha='right')\n",
    "plt.grid(axis='y', linestyle='--', alpha=0.7)\n",
    "\n",
    "\n",
    "# 5. Add Values on Top of Bars\n",
    "for p in ax.patches:\n",
    "    ax.annotate(f'{p.get_height():.2f}', (p.get_x() + p.get_width() / 2., p.get_height()),\n",
    "                ha='center', va='center', xytext=(0, 10), textcoords='offset points', fontsize=10)\n",
    "\n",
    "plt.tight_layout()\n",
    "plt.show()"
   ]
  },
  {
   "cell_type": "markdown",
   "id": "90149243",
   "metadata": {},
   "source": [
    "#### Premium customers are surprisingly performing very bad as compared to other members. These members should be targeted to boost the sales"
   ]
  },
  {
   "cell_type": "code",
   "execution_count": 23,
   "id": "acd2e06d",
   "metadata": {},
   "outputs": [
    {
     "data": {
      "image/png": "[encoded data removed]",
      "text/plain": [
       "<Figure size 720x432 with 1 Axes>"
      ]
     },
     "metadata": {
      "needs_background": "light"
     },
     "output_type": "display_data"
    }
   ],
   "source": [
    "# 1. Calculate Total Sales by LIFESTAGE\n",
    "total_sales_by_lifestage = merged_data.groupby('LIFESTAGE')['TOT_SALES'].sum().reset_index()\n",
    "\n",
    "# 3. Create the Bar Chart\n",
    "plt.figure(figsize=(10, 6))\n",
    "ax = sns.barplot(x='LIFESTAGE', y='TOT_SALES', data=total_sales_by_lifestage, palette='plasma')\n",
    "\n",
    "plt.title('Total Sales by LIFESTAGE', fontsize=16)\n",
    "plt.xlabel('LIFESTAGE', fontsize=12)\n",
    "plt.ylabel('Total Sales', fontsize=12)\n",
    "plt.xticks(rotation=45, ha='right')\n",
    "plt.grid(axis='y', linestyle='--', alpha=0.7)\n",
    "\n",
    "# 5. Add Values on Top of Bars\n",
    "for p in ax.patches:\n",
    "    ax.annotate(f'{p.get_height():.2f}', (p.get_x() + p.get_width() / 2., p.get_height()),\n",
    "                ha='center', va='center', xytext=(0, 10), textcoords='offset points', fontsize=10)\n",
    "\n",
    "plt.tight_layout()\n",
    "plt.show()"
   ]
  },
  {
   "cell_type": "markdown",
   "id": "ea5abbd2",
   "metadata": {},
   "source": [
    "#### Potato chips are performing extremely well among old peope as compared to younger people. Younger demograph should be targeted to increase the sales"
   ]
  },
  {
   "cell_type": "code",
   "execution_count": 24,
   "id": "aee7b5ba",
   "metadata": {},
   "outputs": [
    {
     "name": "stdout",
     "output_type": "stream",
     "text": [
      "          DATE    N\n",
      "0   2018-07-01  205\n",
      "1   2018-07-02  207\n",
      "2   2018-07-03  190\n",
      "3   2018-07-04  197\n",
      "4   2018-07-05  193\n",
      "..         ...  ...\n",
      "359 2019-06-26  186\n",
      "360 2019-06-27  200\n",
      "361 2019-06-28  210\n",
      "362 2019-06-29  217\n",
      "363 2019-06-30  215\n",
      "\n",
      "[364 rows x 2 columns]\n"
     ]
    }
   ],
   "source": [
    "# Converting 'DATE' to datetime objects (if it's not already)\n",
    "customer_data['DATE'] = pd.to_datetime(transaction_data['DATE'])\n",
    "\n",
    "# Group by 'DATE' and count the number of transactions\n",
    "transactions_per_date = customer_data.groupby('DATE').size().reset_index(name='N')\n",
    "\n",
    "# Print the result\n",
    "print(transactions_per_date)"
   ]
  },
  {
   "cell_type": "markdown",
   "id": "379ec53d",
   "metadata": {},
   "source": [
    "#### One date is missing let's take a look at a line chart to visualize transactions by individual dates"
   ]
  },
  {
   "cell_type": "code",
   "execution_count": 28,
   "id": "363b17c9",
   "metadata": {},
   "outputs": [
    {
     "name": "stdout",
     "output_type": "stream",
     "text": [
      "DATE    datetime64[ns]\n",
      "N                int64\n",
      "dtype: object\n"
     ]
    }
   ],
   "source": [
    "print(transactions_per_date.dtypes)"
   ]
  },
  {
   "cell_type": "code",
   "execution_count": 29,
   "id": "47bd852a",
   "metadata": {},
   "outputs": [
    {
     "data": {
      "text/html": [
       "<div>\n",
       "<style scoped>\n",
       "    .dataframe tbody tr th:only-of-type {\n",
       "        vertical-align: middle;\n",
       "    }\n",
       "\n",
       "    .dataframe tbody tr th {\n",
       "        vertical-align: top;\n",
       "    }\n",
       "\n",
       "    .dataframe thead th {\n",
       "        text-align: right;\n",
       "    }\n",
       "</style>\n",
       "<table border=\"1\" class=\"dataframe\">\n",
       "  <thead>\n",
       "    <tr style=\"text-align: right;\">\n",
       "      <th></th>\n",
       "      <th>DATE</th>\n",
       "      <th>N</th>\n",
       "    </tr>\n",
       "  </thead>\n",
       "  <tbody>\n",
       "    <tr>\n",
       "      <th>0</th>\n",
       "      <td>2018-07-01</td>\n",
       "      <td>205</td>\n",
       "    </tr>\n",
       "    <tr>\n",
       "      <th>1</th>\n",
       "      <td>2018-07-02</td>\n",
       "      <td>207</td>\n",
       "    </tr>\n",
       "    <tr>\n",
       "      <th>2</th>\n",
       "      <td>2018-07-03</td>\n",
       "      <td>190</td>\n",
       "    </tr>\n",
       "    <tr>\n",
       "      <th>3</th>\n",
       "      <td>2018-07-04</td>\n",
       "      <td>197</td>\n",
       "    </tr>\n",
       "    <tr>\n",
       "      <th>4</th>\n",
       "      <td>2018-07-05</td>\n",
       "      <td>193</td>\n",
       "    </tr>\n",
       "  </tbody>\n",
       "</table>\n",
       "</div>"
      ],
      "text/plain": [
       "        DATE    N\n",
       "0 2018-07-01  205\n",
       "1 2018-07-02  207\n",
       "2 2018-07-03  190\n",
       "3 2018-07-04  197\n",
       "4 2018-07-05  193"
      ]
     },
     "execution_count": 29,
     "metadata": {},
     "output_type": "execute_result"
    }
   ],
   "source": [
    "transactions_per_date.head()"
   ]
  },
  {
   "cell_type": "code",
   "execution_count": 30,
   "id": "aa3abb1a",
   "metadata": {},
   "outputs": [
    {
     "data": {
      "image/png": "[encoded data removed]",
      "text/plain": [
       "<Figure size 720x432 with 1 Axes>"
      ]
     },
     "metadata": {
      "needs_background": "light"
     },
     "output_type": "display_data"
    }
   ],
   "source": [
    "plt.figure(figsize=(10, 6))  \n",
    "plt.plot(transactions_per_date['DATE'], transactions_per_date['N'], color='black')\n",
    "\n",
    "plt.xlabel('Day')\n",
    "plt.ylabel('Number of transactions')\n",
    "plt.title('Transactions over time')\n",
    "\n",
    "plt.xticks(rotation=90)\n",
    "plt.grid(True, linestyle='-', linewidth=0.5, alpha=0.7)\n",
    "\n",
    "plt.tight_layout()\n",
    "plt.show()\n"
   ]
  },
  {
   "cell_type": "markdown",
   "id": "32436f61",
   "metadata": {},
   "source": [
    "#### We see the sales pick up drastically during the holiday season. Lets visualize it more closely."
   ]
  },
  {
   "cell_type": "code",
   "execution_count": 31,
   "id": "64c76029",
   "metadata": {},
   "outputs": [],
   "source": [
    "december_data = transactions_per_date[transactions_per_date['DATE'].dt.month == 12]"
   ]
  },
  {
   "cell_type": "code",
   "execution_count": 32,
   "id": "a08d1d34",
   "metadata": {
    "scrolled": false
   },
   "outputs": [
    {
     "data": {
      "image/png": "[encoded data removed]",
      "text/plain": [
       "<Figure size 720x432 with 1 Axes>"
      ]
     },
     "metadata": {
      "needs_background": "light"
     },
     "output_type": "display_data"
    }
   ],
   "source": [
    "# Create the plot\n",
    "plt.figure(figsize=(10, 6))\n",
    "plt.plot(december_data['DATE'], december_data['N'], color='black')\n",
    "\n",
    "# Labels and title\n",
    "plt.xlabel('Day')\n",
    "plt.ylabel('Number of transactions')\n",
    "plt.title('Transactions in December')\n",
    "\n",
    "# Rotate x-axis labels for better readability\n",
    "plt.xticks(rotation=90)\n",
    "\n",
    "# Set y-axis limits based on data\n",
    "plt.ylim(december_data['N'].min() - 10, december_data['N'].max() + 10)\n",
    "\n",
    "# Add gridlines\n",
    "plt.grid(True, linestyle='-', linewidth=0.5, alpha=0.7)\n",
    "\n",
    "# Show the plot\n",
    "plt.tight_layout()\n",
    "plt.show()"
   ]
  },
  {
   "cell_type": "markdown",
   "id": "51176b8e",
   "metadata": {},
   "source": [
    "#### Sales picked up in mid of December and peaked on 24th December, certifying that people did their shopping for Christmas and NYE on that day"
   ]
  },
  {
   "cell_type": "code",
   "execution_count": 38,
   "id": "3f15c5a2",
   "metadata": {},
   "outputs": [
    {
     "data": {
      "image/png": "[encoded data removed]",
      "text/plain": [
       "<Figure size 720x432 with 1 Axes>"
      ]
     },
     "metadata": {
      "needs_background": "light"
     },
     "output_type": "display_data"
    }
   ],
   "source": [
    "#Checking proportion of customers by Lifestage and Membership\n",
    "\n",
    "# Create a crosstab (contingency table) to get the counts\n",
    "cross_tab = pd.crosstab(merged_data['LIFESTAGE'], merged_data['PREMIUM_CUSTOMER'])\n",
    "\n",
    "# Calculate percentages (proportions)\n",
    "percentages = cross_tab.div(cross_tab.sum(axis=1), axis=0) * 100\n",
    "\n",
    "# Plot the stacked bar chart\n",
    "percentages.plot(kind='bar', stacked=True, figsize=(10, 6), rot=0, color=['lightcoral', 'mediumseagreen', 'cornflowerblue'])\n",
    "\n",
    "# Add labels and title\n",
    "plt.xlabel('Lifestage')\n",
    "plt.ylabel('Membership Flag')\n",
    "plt.title('Proportion of customers')\n",
    "\n",
    "# Adjust x-axis labels rotation\n",
    "plt.xticks(rotation=90)\n",
    "\n",
    "# Add percentages as text on the bars\n",
    "for i in range(len(percentages)):\n",
    "    bottom = 0\n",
    "    for j, premium_customer in enumerate(percentages.columns):\n",
    "        value = percentages.iloc[i, j]\n",
    "        plt.text(i, bottom + value / 2, f'{value:.1f}%', ha='center', va='center', color='black')\n",
    "        bottom += value\n",
    "\n",
    "# Add legend\n",
    "plt.legend(title='PREMIUM_CUSTOMER', bbox_to_anchor=(1.05, 1), loc='upper left')\n",
    "\n",
    "# Show the plot\n",
    "plt.tight_layout()\n",
    "plt.show()"
   ]
  },
  {
   "cell_type": "markdown",
   "id": "a73572aa",
   "metadata": {},
   "source": [
    "#### There are more Mainstream - young singles/couples and Mainstream - retirees who buy chips. This contributes to there being more sales to these customer segments but this is not a major driver for the Budget. Higher sales may also be driven by more units of chips being bought per customer. "
   ]
  },
  {
   "cell_type": "markdown",
   "id": "49785a88",
   "metadata": {},
   "source": [
    "## Conclusion"
   ]
  },
  {
   "cell_type": "markdown",
   "id": "265cfc79",
   "metadata": {},
   "source": [
    "#### From our analysis we can successfully infer that total sales from older people and younger families/singles was more than who were middle aged or new families. When we checked the proportion of customers by lifestages and their membership we witnessed that older, new and young families did most sales while having Budget membership. Young singles and couples, retirees, midage and older singles/couples did most sales while having Mainstream membership. Sales were very good during the holiday season with peak being on 24th December. I believe that potato chip sales should be targeted in those areas and cities where older population is significant as chip sales performed way better among older demographic than younger demographic."
   ]
  },
  {
   "cell_type": "code",
   "execution_count": null,
   "id": "efae75eb",
   "metadata": {},
   "outputs": [],
   "source": []
  }
 ],
 "metadata": {
  "kernelspec": {
   "display_name": "Python 3 (ipykernel)",
   "language": "python",
   "name": "python3"
  },
  "language_info": {
   "codemirror_mode": {
    "name": "ipython",
    "version": 3
   },
   "file_extension": ".py",
   "mimetype": "text/x-python",
   "name": "python",
   "nbconvert_exporter": "python",
   "pygments_lexer": "ipython3",
   "version": "3.9.12"
  }
 },
 "nbformat": 4,
 "nbformat_minor": 5
}
